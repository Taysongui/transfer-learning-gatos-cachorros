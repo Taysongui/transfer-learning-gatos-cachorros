{
  "nbformat": 4,
  "nbformat_minor": 0,
  "metadata": {
    "colab": {
      "provenance": []
    },
    "kernelspec": {
      "name": "python3",
      "display_name": "Python 3"
    },
    "language_info": {
      "name": "python"
    }
  },
  "cells": [
    {
      "cell_type": "code",
      "execution_count": null,
      "metadata": {
        "id": "2GN5t1SaQqob"
      },
      "outputs": [],
      "source": [
        "# Importar bibliotecas\n",
        "import tensorflow as tf\n",
        "from tensorflow.keras.preprocessing.image import ImageDataGenerator\n",
        "from tensorflow.keras.applications import MobileNetV2\n",
        "from tensorflow.keras.layers import Dense, GlobalAveragePooling2D\n",
        "from tensorflow.keras.models import Model\n",
        "import matplotlib.pyplot as plt\n",
        "import os\n",
        "\n",
        "# Diretórios do dataset\n",
        "# Faça upload do arquivo cats_and_dogs.zip no Colab antes\n",
        "from zipfile import ZipFile\n",
        "with ZipFile(\"cats_and_dogs.zip\", 'r') as zip_ref:\n",
        "    zip_ref.extractall(\"dataset\")\n",
        "\n",
        "# Geradores de dados\n",
        "train_datagen = ImageDataGenerator(rescale=1./255, validation_split=0.2)\n",
        "\n",
        "train_generator = train_datagen.flow_from_directory(\n",
        "    'dataset', target_size=(224, 224), batch_size=32, class_mode='binary', subset='training'\n",
        ")\n",
        "\n",
        "validation_generator = train_datagen.flow_from_directory(\n",
        "    'dataset', target_size=(224, 224), batch_size=32, class_mode='binary', subset='validation'\n",
        ")\n",
        "\n",
        "# Transfer Learning com MobileNetV2\n",
        "base_model = MobileNetV2(weights='imagenet', include_top=False, input_shape=(224,224,3))\n",
        "base_model.trainable = False\n",
        "\n",
        "x = base_model.output\n",
        "x = GlobalAveragePooling2D()(x)\n",
        "x = Dense(128, activation='relu')(x)\n",
        "predictions = Dense(1, activation='sigmoid')(x)\n",
        "\n",
        "model = Model(inputs=base_model.input, outputs=predictions)\n",
        "model.compile(optimizer='adam', loss='binary_crossentropy', metrics=['accuracy'])\n",
        "\n",
        "# Treinamento\n",
        "history = model.fit(train_generator, validation_data=validation_generator, epochs=5)\n",
        "\n",
        "# Salvar gráficos de acurácia e perda\n",
        "os.makedirs('images', exist_ok=True)\n",
        "plt.figure()\n",
        "plt.plot(history.history['accuracy'], label='Treinamento')\n",
        "plt.plot(history.history['val_accuracy'], label='Validação')\n",
        "plt.legend()\n",
        "plt.title('Acurácia')\n",
        "plt.savefig('images/accuracy_plot.png')\n",
        "\n",
        "plt.figure()\n",
        "plt.plot(history.history['loss'], label='Treinamento')\n",
        "plt.plot(history.history['val_loss'], label='Validação')\n",
        "plt.legend()\n",
        "plt.title('Perda')\n",
        "plt.savefig('images/loss_plot.png')\n"
      ]
    }
  ]
}